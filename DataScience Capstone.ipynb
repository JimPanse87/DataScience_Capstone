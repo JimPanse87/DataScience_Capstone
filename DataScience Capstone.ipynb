{
    "nbformat_minor": 1, 
    "cells": [
        {
            "source": "# Datascience Capstone project - Usage of Foursquare Data to compare popular venues of US and German Cities\n\nby Andreas Ediger\n\n\n## 1. Description of the problem and a discussion of the background. \n\nThis analysis shall compare venues of US and German Cities. It shall determine general live-style differences between US and German citizens.\nFor example it can reveal differences or similarites between US and German citizens by extracting the density of certain venue groups. Imagine a certain venue category like coffee shops occurs much more often in Germany, we can conclude that Germany is the bigger Coffe-Drinker Nation. Or in the US, parks are much more frequent, this can show that US people like to spend their leasure time in Parks more, compared to Germans.\nThese are just two imaginary examples but the analysis will find this kind of outcome.\nAnother example can be popularity of venue categories. E.g. we could find out that bakeries are extremely popular for US citizens. This could encourage German bakers to start their business in the US (thinking about strong German Bakery-Tradition)\n\nThis analysis will be of particular interest of US or German people who plan to visit the other country, or even plan a longer stay up to migration.\nAlso companies who want to expand their business in the other country will benefit from this analysis.\n\n##\n\n", 
            "cell_type": "markdown", 
            "metadata": {
                "collapsed": true
            }
        }, 
        {
            "execution_count": 1, 
            "cell_type": "code", 
            "metadata": {}, 
            "outputs": [
                {
                    "output_type": "stream", 
                    "name": "stdout", 
                    "text": "Hello Capstone Project Course\n"
                }
            ], 
            "source": "import pandas as pd\nimport numpy as np\n\nprint(\"Hello Capstone Project Course\")"
        }, 
        {
            "execution_count": null, 
            "cell_type": "code", 
            "metadata": {}, 
            "outputs": [], 
            "source": ""
        }
    ], 
    "metadata": {
        "kernelspec": {
            "display_name": "Python 3.6", 
            "name": "python3", 
            "language": "python"
        }, 
        "language_info": {
            "mimetype": "text/x-python", 
            "nbconvert_exporter": "python", 
            "version": "3.6.8", 
            "name": "python", 
            "file_extension": ".py", 
            "pygments_lexer": "ipython3", 
            "codemirror_mode": {
                "version": 3, 
                "name": "ipython"
            }
        }
    }, 
    "nbformat": 4
}